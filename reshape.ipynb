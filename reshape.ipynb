{
 "cells": [
  {
   "cell_type": "markdown",
   "id": "c6750f22-c38e-41a2-a186-05ba34e30bef",
   "metadata": {},
   "source": [
    "https://wikidocs.net/105682"
   ]
  },
  {
   "cell_type": "code",
   "execution_count": null,
   "id": "4fc3ef39-0255-4041-b17b-bc67c9163d99",
   "metadata": {},
   "outputs": [],
   "source": []
  }
 ],
 "metadata": {
  "kernelspec": {
   "display_name": "Python 3 (ipykernel)",
   "language": "python",
   "name": "python3"
  },
  "language_info": {
   "codemirror_mode": {
    "name": "ipython",
    "version": 3
   },
   "file_extension": ".py",
   "mimetype": "text/x-python",
   "name": "python",
   "nbconvert_exporter": "python",
   "pygments_lexer": "ipython3",
   "version": "3.9.12"
  }
 },
 "nbformat": 4,
 "nbformat_minor": 5
}
