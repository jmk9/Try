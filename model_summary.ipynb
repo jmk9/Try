{
 "cells": [
  {
   "cell_type": "code",
   "execution_count": 2,
   "metadata": {},
   "outputs": [],
   "source": [
    "from keras.models import Model\n",
    "from keras.layers import *\n",
    "\n",
    "import tensorflow as tf"
   ]
  },
  {
   "cell_type": "code",
   "execution_count": 7,
   "metadata": {},
   "outputs": [
    {
     "name": "stdout",
     "output_type": "stream",
     "text": [
      "Model: \"model_4\"\n",
      "_________________________________________________________________\n",
      " Layer (type)                Output Shape              Param #   \n",
      "=================================================================\n",
      " input_5 (InputLayer)        [(None, 64, 64, 3)]       0         \n",
      "                                                                 \n",
      " conv2d_16 (Conv2D)          (None, 32, 32, 32)        416       \n",
      "                                                                 \n",
      " conv2d_17 (Conv2D)          (None, 32, 32, 64)        18496     \n",
      "                                                                 \n",
      " max_pooling2d_7 (MaxPooling  (None, 16, 16, 64)       0         \n",
      " 2D)                                                             \n",
      "                                                                 \n",
      " conv2d_18 (Conv2D)          (None, 16, 16, 64)        65600     \n",
      "                                                                 \n",
      " max_pooling2d_8 (MaxPooling  (None, 15, 15, 64)       0         \n",
      " 2D)                                                             \n",
      "                                                                 \n",
      " conv2d_19 (Conv2D)          (None, 15, 15, 128)       204928    \n",
      "                                                                 \n",
      "=================================================================\n",
      "Total params: 289,440\n",
      "Trainable params: 289,440\n",
      "Non-trainable params: 0\n",
      "_________________________________________________________________\n"
     ]
    },
    {
     "data": {
      "text/plain": [
       "\"\\npadding='same'을 할 경우 filter가 움직이며 image data가 축소될 때 data 가장자리를 0으로 채워주어 크기를 유지시킴\\npadding 파라미터 값을 지정하지 않으면 디폴트 값인 'valid'가 되어 유효한 영역 즉, padding이 이루어지지 않은 축소된 크기를 출력함\\n\\nstrides=2를 하면 filter가 두 칸씩 이동하므로 padding을 하더라도 data 크기가 절반으로 줄어듦\\n\\nmaxpooling을 하게 되면 filter나 strides 파라미터 값을 지정하지 않으면 디폴트 값인 각각 (2,2), 2가 되어 data의 크기가 절반이 됨\\n\\nkernel_initializer(초기화 함수)를 통해 파라미터 초기값을 어떤 방식으로 생성할 지 정할 수 있음. weight(가중치)를 다룸\\nbias_initializer는 bias를 다룸\\n\\n\""
      ]
     },
     "execution_count": 7,
     "metadata": {},
     "output_type": "execute_result"
    }
   ],
   "source": [
    "inputs = Input(shape=(64, 64, 3))\n",
    "\n",
    "l = Conv2D(filters=32, strides=2, kernel_size=(2, 2), padding='same', kernel_initializer='he_normal')(inputs)\n",
    "l = Conv2D(64, 3, padding='same')(l)\n",
    "l = MaxPooling2D()(l)\n",
    "l = Conv2D(64, 4, padding='same')(l)\n",
    "l = MaxPooling2D(strides=1)(l)\n",
    "l = Conv2D(128, 5, padding='same')(l)\n",
    "\n",
    "model = Model(inputs=inputs, outputs=l)\n",
    "model.summary()\n",
    "\n",
    "'''\n",
    "padding='same'을 할 경우 filter가 움직이며 image data가 축소될 때 data 가장자리를 0으로 채워주어 크기를 유지시킴\n",
    "padding 파라미터 값을 지정하지 않으면 디폴트 값인 'valid'가 되어 유효한 영역 즉, padding이 이루어지지 않은 축소된 크기를 출력함\n",
    "\n",
    "strides=2를 하면 filter가 두 칸씩 이동하므로 padding을 하더라도 data 크기가 절반으로 줄어듦\n",
    "\n",
    "maxpooling을 하게 되면 filter나 strides 파라미터 값을 지정하지 않으면 디폴트 값인 각각 (2,2), 2가 되어 data의 크기가 절반이 됨\n",
    "\n",
    "kernel_initializer(초기화 함수)를 통해 파라미터 초기값을 어떤 방식으로 생성할 지 정할 수 있음. weight(가중치)를 다룸\n",
    "bias_initializer는 bias를 다룸\n",
    "\n",
    "'''"
   ]
  },
  {
   "cell_type": "code",
   "execution_count": null,
   "metadata": {},
   "outputs": [],
   "source": []
  }
 ],
 "metadata": {
  "kernelspec": {
   "display_name": "Python 3.9.12 ('base')",
   "language": "python",
   "name": "python3"
  },
  "language_info": {
   "codemirror_mode": {
    "name": "ipython",
    "version": 3
   },
   "file_extension": ".py",
   "mimetype": "text/x-python",
   "name": "python",
   "nbconvert_exporter": "python",
   "pygments_lexer": "ipython3",
   "version": "3.9.12"
  },
  "orig_nbformat": 4,
  "vscode": {
   "interpreter": {
    "hash": "d45c81ae1396a65f3ccadcea764f706501bbbb083713022cac2d39dadf906aad"
   }
  }
 },
 "nbformat": 4,
 "nbformat_minor": 2
}
