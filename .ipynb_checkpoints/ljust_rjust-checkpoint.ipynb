{
 "cells": [
  {
   "cell_type": "code",
   "execution_count": 4,
   "metadata": {},
   "outputs": [
    {
     "name": "stdout",
     "output_type": "stream",
     "text": [
      "minkyu 1\n",
      "happy 100\n",
      "boy 10000\n"
     ]
    }
   ],
   "source": [
    "str = ['minkyu', 'happy', 'boy']\n",
    "num = [1, 100, 10000]\n",
    "\n",
    "for i in range(3):\n",
    "    print(str[i], num[i])"
   ]
  },
  {
   "cell_type": "code",
   "execution_count": null,
   "metadata": {},
   "outputs": [],
   "source": []
  },
  {
   "cell_type": "markdown",
   "metadata": {},
   "source": [
    "### 문자열.ljust(n) 함수는 왼쪽에서부터 n만큼 정렬함.  \n",
    "### 문자열.rjust(n) 함수는 오른쪽에서부터 n만큼 정렬함."
   ]
  },
  {
   "cell_type": "code",
   "execution_count": 31,
   "metadata": {},
   "outputs": [
    {
     "name": "stdout",
     "output_type": "stream",
     "text": [
      "minkyu 1\n",
      "happy  100\n",
      "boy    10000\n",
      "\n",
      "    minkyu 1\n",
      "     happy 100\n",
      "       boy 10000\n"
     ]
    }
   ],
   "source": [
    "str = ['minkyu', 'happy', 'boy']\n",
    "num = [1, 100, 10000]\n",
    "\n",
    "for i in range(3):\n",
    "    print(str[i].ljust(6), num[i]) # 문자열.ljust(n) 함수는 왼쪽에서부터 n만큼 정렬함.\n",
    "    \n",
    "print('')\n",
    "for i in range(3):\n",
    "    print(str[i].rjust(10), num[i]) # 문자열.rjust(n) 함수는 오른쪽에서부터 n만큼 정렬함."
   ]
  },
  {
   "cell_type": "code",
   "execution_count": null,
   "metadata": {},
   "outputs": [],
   "source": []
  }
 ],
 "metadata": {
  "kernelspec": {
   "display_name": "Python 3",
   "language": "python",
   "name": "python3"
  },
  "language_info": {
   "codemirror_mode": {
    "name": "ipython",
    "version": 3
   },
   "file_extension": ".py",
   "mimetype": "text/x-python",
   "name": "python",
   "nbconvert_exporter": "python",
   "pygments_lexer": "ipython3",
   "version": "3.7.6"
  }
 },
 "nbformat": 4,
 "nbformat_minor": 4
}
