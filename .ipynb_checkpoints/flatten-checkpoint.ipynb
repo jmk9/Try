{
 "cells": [
  {
   "cell_type": "markdown",
   "id": "d4cc941f-82a0-49fe-aef7-7831ece82d9e",
   "metadata": {},
   "source": [
    "# About deeplearning model layers"
   ]
  },
  {
   "cell_type": "code",
   "execution_count": 1,
   "id": "bef20a01-cd7d-418b-b60c-f21cf471c41f",
   "metadata": {},
   "outputs": [],
   "source": [
    "import numpy as np\n",
    "import tensorflow as tf"
   ]
  },
  {
   "cell_type": "markdown",
   "id": "f6f01048-7ad3-41ab-b687-540549513516",
   "metadata": {},
   "source": [
    "- Flatten layer"
   ]
  },
  {
   "cell_type": "code",
   "execution_count": 13,
   "id": "1014ea81-3781-4ff3-bf1d-a0c7d37d51c8",
   "metadata": {},
   "outputs": [
    {
     "name": "stdout",
     "output_type": "stream",
     "text": [
      "[[[1 1 1]\n",
      "  [2 2 2]\n",
      "  [3 3 3]]\n",
      "\n",
      " [[4 4 4]\n",
      "  [5 5 5]\n",
      "  [6 6 6]]\n",
      "\n",
      " [[7 7 7]\n",
      "  [8 8 8]\n",
      "  [9 9 9]]]\n",
      "(3, 3, 3)\n",
      "\n",
      "[[1 1 1 2 2 2 3 3 3]\n",
      " [4 4 4 5 5 5 6 6 6]\n",
      " [7 7 7 8 8 8 9 9 9]]\n",
      "(3, 9)\n"
     ]
    }
   ],
   "source": [
    "layer1 = np.array([\n",
    "    [[1, 1, 1], [2, 2, 2], [3, 3, 3]], \n",
    "    [[4, 4, 4], [5, 5, 5], [6, 6, 6]],\n",
    "    [[7, 7, 7], [8, 8, 8], [9, 9, 9]],\n",
    "])\n",
    "print(layer1)\n",
    "print(layer1.shape)\n",
    "print()\n",
    "\n",
    "flatten1 = tf.keras.layers.Flatten()(layer1).numpy()\n",
    "\n",
    "print(flatten1)\n",
    "print(flatten1.shape)"
   ]
  },
  {
   "cell_type": "code",
   "execution_count": 15,
   "id": "0b5e1ad1-363b-417e-9a3d-60f716c37300",
   "metadata": {},
   "outputs": [
    {
     "name": "stdout",
     "output_type": "stream",
     "text": [
      "[[[[1 1 1]\n",
      "   [2 2 2]\n",
      "   [3 3 3]]\n",
      "\n",
      "  [[4 4 4]\n",
      "   [5 5 5]\n",
      "   [6 6 6]]\n",
      "\n",
      "  [[7 7 7]\n",
      "   [8 8 8]\n",
      "   [9 9 9]]]\n",
      "\n",
      "\n",
      " [[[1 1 1]\n",
      "   [2 2 2]\n",
      "   [3 3 3]]\n",
      "\n",
      "  [[4 4 4]\n",
      "   [5 5 5]\n",
      "   [6 6 6]]\n",
      "\n",
      "  [[7 7 7]\n",
      "   [8 8 8]\n",
      "   [9 9 9]]]]\n",
      "(2, 3, 3, 3)\n",
      "\n",
      "[[1 1 1 2 2 2 3 3 3 4 4 4 5 5 5 6 6 6 7 7 7 8 8 8 9 9 9]\n",
      " [1 1 1 2 2 2 3 3 3 4 4 4 5 5 5 6 6 6 7 7 7 8 8 8 9 9 9]]\n",
      "(2, 27)\n"
     ]
    }
   ],
   "source": [
    "layer2 = np.array([\n",
    "   [[[1, 1, 1], [2, 2, 2], [3, 3, 3]], \n",
    "    [[4, 4, 4], [5, 5, 5], [6, 6, 6]],\n",
    "    [[7, 7, 7], [8, 8, 8], [9, 9, 9]]],\n",
    "   [[[1, 1, 1], [2, 2, 2], [3, 3, 3]], \n",
    "    [[4, 4, 4], [5, 5, 5], [6, 6, 6]],\n",
    "    [[7, 7, 7], [8, 8, 8], [9, 9, 9]]]\n",
    "])\n",
    "print(layer2)\n",
    "print(layer2.shape)\n",
    "print()\n",
    "\n",
    "flatten2 = tf.keras.layers.Flatten()(layer2).numpy()\n",
    "print(flatten2)\n",
    "print(flatten2.shape)"
   ]
  },
  {
   "cell_type": "markdown",
   "id": "836a7afa-095e-4cf6-ae56-cab5248122c1",
   "metadata": {},
   "source": [
    " "
   ]
  },
  {
   "cell_type": "markdown",
   "id": "24fa0899-459e-4de0-b523-3e2116ba7b69",
   "metadata": {},
   "source": [
    "이처럼 Flatten layer는 n차원 array를 2차원으로 쫙 편다."
   ]
  },
  {
   "cell_type": "code",
   "execution_count": null,
   "id": "bbc4fd98-3643-4a1e-bd52-1d1f957bf43d",
   "metadata": {},
   "outputs": [],
   "source": []
  }
 ],
 "metadata": {
  "kernelspec": {
   "display_name": "Python 3 (ipykernel)",
   "language": "python",
   "name": "python3"
  },
  "language_info": {
   "codemirror_mode": {
    "name": "ipython",
    "version": 3
   },
   "file_extension": ".py",
   "mimetype": "text/x-python",
   "name": "python",
   "nbconvert_exporter": "python",
   "pygments_lexer": "ipython3",
   "version": "3.9.12"
  }
 },
 "nbformat": 4,
 "nbformat_minor": 5
}
