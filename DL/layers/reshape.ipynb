{
 "cells": [
  {
   "cell_type": "markdown",
   "id": "c6750f22-c38e-41a2-a186-05ba34e30bef",
   "metadata": {},
   "source": [
    "https://wikidocs.net/105682"
   ]
  },
  {
   "cell_type": "code",
   "execution_count": 1,
   "id": "4fc3ef39-0255-4041-b17b-bc67c9163d99",
   "metadata": {},
   "outputs": [],
   "source": [
    "import numpy as np\n",
    "import tensorflow as tf"
   ]
  },
  {
   "cell_type": "code",
   "execution_count": 6,
   "id": "b216c6ba-118a-4cb7-871d-99df2529baf1",
   "metadata": {},
   "outputs": [
    {
     "name": "stdout",
     "output_type": "stream",
     "text": [
      "(3, 3, 3)\n",
      "[[1 1 1 2 2 2 3 3 3]\n",
      " [4 4 4 5 5 5 6 6 6]\n",
      " [7 7 7 8 8 8 9 9 9]]\n",
      "(3, 9)\n"
     ]
    }
   ],
   "source": [
    "layer = np.array([\n",
    "    [[1, 1, 1], [2, 2, 2], [3, 3, 3]], \n",
    "    [[4, 4, 4], [5, 5, 5], [6, 6, 6]],\n",
    "    [[7, 7, 7], [8, 8, 8], [9, 9, 9]],\n",
    "])\n",
    "print(layer.shape)\n",
    "\n",
    "reshape = tf.keras.layers.Reshape(target_shape=(-1,))(layer).numpy()\n",
    "print(reshape)\n",
    "print(reshape.shape)"
   ]
  },
  {
   "cell_type": "code",
   "execution_count": 17,
   "id": "ca2ec12e-08ad-4453-acd2-8213119f912d",
   "metadata": {},
   "outputs": [
    {
     "name": "stdout",
     "output_type": "stream",
     "text": [
      "(2, 3, 3, 3)\n",
      "[[1 1 1 2 2 2 3 3 3 4 4 4 5 5 5 6 6 6 7 7 7 8 8 8 9 9 9]\n",
      " [1 1 1 2 2 2 3 3 3 4 4 4 5 5 5 6 6 6 7 7 7 8 8 8 9 9 9]]\n",
      "(2, 27)\n"
     ]
    }
   ],
   "source": [
    "layer2 = np.array([\n",
    "   [[[1, 1, 1], [2, 2, 2], [3, 3, 3]], \n",
    "    [[4, 4, 4], [5, 5, 5], [6, 6, 6]],\n",
    "    [[7, 7, 7], [8, 8, 8], [9, 9, 9]]],\n",
    "   [[[1, 1, 1], [2, 2, 2], [3, 3, 3]], \n",
    "    [[4, 4, 4], [5, 5, 5], [6, 6, 6]],\n",
    "    [[7, 7, 7], [8, 8, 8], [9, 9, 9]]]\n",
    "])\n",
    "print(layer2.shape)\n",
    "\n",
    "reshape2 = tf.keras.layers.Reshape(target_shape=(-1,))(layer2).numpy()\n",
    "print(reshape2)\n",
    "print(reshape2.shape)"
   ]
  },
  {
   "cell_type": "code",
   "execution_count": 19,
   "id": "20b32620-d0ba-4b58-99fd-c33e94206b6e",
   "metadata": {},
   "outputs": [
    {
     "name": "stdout",
     "output_type": "stream",
     "text": [
      "(2, 2, 3, 3)\n",
      "[[[1 1 1 2 2 2 3 3 3]\n",
      "  [4 4 4 5 5 5 6 6 6]]\n",
      "\n",
      " [[1 1 1 2 2 2 3 3 3]\n",
      "  [4 4 4 5 5 5 6 6 6]]]\n",
      "(2, 2, 9)\n"
     ]
    }
   ],
   "source": [
    "layer2 = np.array([\n",
    "   [[[1, 1, 1], [2, 2, 2], [3, 3, 3]], \n",
    "    [[4, 4, 4], [5, 5, 5], [6, 6, 6]]],\n",
    "   [[[1, 1, 1], [2, 2, 2], [3, 3, 3]], \n",
    "    [[4, 4, 4], [5, 5, 5], [6, 6, 6]]]\n",
    "])\n",
    "print(layer2.shape)\n",
    "\n",
    "reshape2 = tf.keras.layers.Reshape(target_shape=(2, 9))(layer2).numpy()\n",
    "print(reshape2)\n",
    "print(reshape2.shape)"
   ]
  },
  {
   "cell_type": "markdown",
   "id": "80ced39f-5d52-4291-a6ae-407fb6f14d73",
   "metadata": {},
   "source": [
    "위처럼 기존 shape형태를 유지하며 원하는 shape으로 reshape해준다."
   ]
  },
  {
   "cell_type": "code",
   "execution_count": null,
   "id": "d6486501-b7d3-49f8-b7f0-4af2104e7486",
   "metadata": {},
   "outputs": [],
   "source": []
  }
 ],
 "metadata": {
  "kernelspec": {
   "display_name": "Python 3 (ipykernel)",
   "language": "python",
   "name": "python3"
  },
  "language_info": {
   "codemirror_mode": {
    "name": "ipython",
    "version": 3
   },
   "file_extension": ".py",
   "mimetype": "text/x-python",
   "name": "python",
   "nbconvert_exporter": "python",
   "pygments_lexer": "ipython3",
   "version": "3.9.12"
  }
 },
 "nbformat": 4,
 "nbformat_minor": 5
}
