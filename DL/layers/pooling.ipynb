{
 "cells": [
  {
   "cell_type": "markdown",
   "id": "e5d6d856-d6f0-40e4-b824-b09ecf29084b",
   "metadata": {},
   "source": [
    "# Pooling layer"
   ]
  },
  {
   "cell_type": "markdown",
   "id": "14ff0c60-f42a-453c-8762-8fc39a231574",
   "metadata": {},
   "source": [
    "- Average pooling"
   ]
  },
  {
   "cell_type": "code",
   "execution_count": 52,
   "id": "e2b38f75-33c2-4917-b22e-862b5cc38928",
   "metadata": {},
   "outputs": [
    {
     "name": "stdout",
     "output_type": "stream",
     "text": [
      "(2, 3, 3, 3)\n",
      "------------------------------\n",
      "[[ 5  5  5]\n",
      " [10 10 10]]\n",
      "(2, 3)\n"
     ]
    }
   ],
   "source": [
    "import numpy as np\n",
    "import tensorflow as tf\n",
    "\n",
    "layer1 = np.array([\n",
    "   [[[1, 1, 1], [2, 2, 2], [3, 3, 3]], \n",
    "    [[4, 4, 4], [5, 5, 5], [6, 6, 6]],\n",
    "    [[7, 7, 7], [8, 8, 8], [9, 9, 9]]],\n",
    "   [[[1, 1, 1], [50, 50, 50], [3, 3, 3]], \n",
    "    [[4, 4, 4], [5, 5, 5], [6, 6, 6]],\n",
    "    [[7, 7, 7], [8, 8, 8], [9, 9, 9]]]\n",
    "])\n",
    "print(layer1.shape)\n",
    "print('-' * 30)\n",
    "\n",
    "pool1 = tf.keras.layers.GlobalAveragePooling2D()(layer1).numpy()\n",
    "print(pool1)\n",
    "print(pool1.shape)"
   ]
  },
  {
   "cell_type": "markdown",
   "id": "4fef1200-60b0-4bbd-aeb9-15461a906ce1",
   "metadata": {},
   "source": [
    "평균값을 반환"
   ]
  },
  {
   "cell_type": "markdown",
   "id": "fc893271-d3e4-44db-8717-0580f6536ef9",
   "metadata": {},
   "source": [
    "- Max pooling"
   ]
  },
  {
   "cell_type": "code",
   "execution_count": 49,
   "id": "0e2baf4b-737d-417a-8ac1-949797b0990e",
   "metadata": {},
   "outputs": [
    {
     "name": "stdout",
     "output_type": "stream",
     "text": [
      "(2, 3, 3, 3)\n",
      "------------------------------\n",
      "[[[[10 10  7]]]\n",
      "\n",
      "\n",
      " [[[ 5 30 30]]]]\n",
      "(2, 1, 1, 3)\n"
     ]
    }
   ],
   "source": [
    "layer2 = np.array([\n",
    "   [[[10, 10, 1], [2, 2, 2], [4, 4, 4]], \n",
    "    [[7, 7, 7], [1, 1, 1], [60, 60, 60]],\n",
    "    [[7, 7, 7], [80, 80, 80], [9, 9, 9]]],\n",
    "   [[[3, 30, 30], [2, 2, 2], [3, 3, 3]], \n",
    "    [[4, 4, 4], [5, 5, 5], [60, 60, 60]],\n",
    "    [[7, 7, 7], [800,800, 800], [9, 9, 9]]]\n",
    "])\n",
    "print(layer2.shape)\n",
    "print('-' * 30)\n",
    "\n",
    "pool2 = tf.keras.layers.MaxPooling2D(pool_size=(2,2))(layer2).numpy()\n",
    "print(pool2)\n",
    "print(pool2.shape)"
   ]
  },
  {
   "cell_type": "code",
   "execution_count": 51,
   "id": "bc9ee1f9-e910-42b7-908c-cebca3785cbd",
   "metadata": {},
   "outputs": [
    {
     "name": "stdout",
     "output_type": "stream",
     "text": [
      "(2, 3, 3, 3)\n",
      "------------------------------\n",
      "[[[[ 80  80  80]]]\n",
      "\n",
      "\n",
      " [[[800 800 800]]]]\n",
      "(2, 1, 1, 3)\n"
     ]
    }
   ],
   "source": [
    "layer2 = np.array([\n",
    "   [[[1, 1, 1], [2, 2, 2], [4, 4, 4]], \n",
    "    [[7, 7, 7], [1, 1, 1], [6, 6, 6]],\n",
    "    [[7, 7, 7], [80, 80, 80], [9, 9, 9]]],\n",
    "   [[[30, 30, 30], [2, 2, 2], [3, 3, 3]], \n",
    "    [[4, 4, 4], [5, 5, 5], [6, 6, 6]],\n",
    "    [[7, 7, 7], [800,800, 800], [9, 9, 9]]]\n",
    "])\n",
    "print(layer2.shape)\n",
    "print('-' * 30)\n",
    "\n",
    "pool2 = tf.keras.layers.MaxPooling2D(pool_size=(3,3))(layer2).numpy()\n",
    "print(pool2)\n",
    "print(pool2.shape)"
   ]
  },
  {
   "cell_type": "markdown",
   "id": "a90c74d3-8066-4103-9fe6-1e4f01297016",
   "metadata": {},
   "source": [
    "최대값을 반환"
   ]
  },
  {
   "cell_type": "code",
   "execution_count": null,
   "id": "2d194c90-09ec-431a-918a-022012f1633d",
   "metadata": {},
   "outputs": [],
   "source": []
  }
 ],
 "metadata": {
  "kernelspec": {
   "display_name": "Python 3 (ipykernel)",
   "language": "python",
   "name": "python3"
  },
  "language_info": {
   "codemirror_mode": {
    "name": "ipython",
    "version": 3
   },
   "file_extension": ".py",
   "mimetype": "text/x-python",
   "name": "python",
   "nbconvert_exporter": "python",
   "pygments_lexer": "ipython3",
   "version": "3.9.12"
  }
 },
 "nbformat": 4,
 "nbformat_minor": 5
}
