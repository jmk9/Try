{
  "nbformat": 4,
  "nbformat_minor": 0,
  "metadata": {
    "colab": {
      "name": "mnist_CNN_model.ipynb",
      "provenance": [],
      "collapsed_sections": [],
      "authorship_tag": "ABX9TyOmFIBmOtoGdxEz8i3R6swT",
      "include_colab_link": true
    },
    "kernelspec": {
      "name": "python3",
      "display_name": "Python 3"
    },
    "language_info": {
      "name": "python"
    }
  },
  "cells": [
    {
      "cell_type": "markdown",
      "metadata": {
        "id": "view-in-github",
        "colab_type": "text"
      },
      "source": [
        "<a href=\"https://colab.research.google.com/github/jmk9/try/blob/main/mnist_CNN_model.ipynb\" target=\"_parent\"><img src=\"https://colab.research.google.com/assets/colab-badge.svg\" alt=\"Open In Colab\"/></a>"
      ]
    },
    {
      "cell_type": "code",
      "source": [
        "from tensorflow import keras\n",
        "from keras import activations\n",
        "from keras.models import Model\n",
        "from keras.layers import *\n",
        "\n",
        "import numpy as np\n",
        "import matplotlib.pyplot as plt\n",
        "import math"
      ],
      "metadata": {
        "id": "GCKVC_dNJGw6"
      },
      "execution_count": null,
      "outputs": []
    },
    {
      "cell_type": "code",
      "source": [
        "(x_train, y_train), (x_test, y_test) = keras.datasets.mnist.load_data()"
      ],
      "metadata": {
        "id": "P6cP_TAkO2KP"
      },
      "execution_count": null,
      "outputs": []
    },
    {
      "cell_type": "code",
      "source": [
        "x_train = x_train.astype(\"float32\") / 255\n",
        "x_test = x_test.astype(\"float32\") / 255"
      ],
      "metadata": {
        "id": "LF_wofDjmSkY"
      },
      "execution_count": null,
      "outputs": []
    },
    {
      "cell_type": "code",
      "source": [
        "x_train = np.expand_dims(x_train, -1)\n",
        "x_test = np.expand_dims(x_val, -1)\n",
        "print('train image shape :', x_train.shape)\n",
        "print('test image shape :', x_test.shape)"
      ],
      "metadata": {
        "colab": {
          "base_uri": "https://localhost:8080/"
        },
        "id": "JKfM_Pni0ZOL",
        "outputId": "2e4e62a6-3c8e-4695-ccf7-8218caa27ae6"
      },
      "execution_count": null,
      "outputs": [
        {
          "output_type": "stream",
          "name": "stdout",
          "text": [
            "train image shape : (60000, 28, 28, 1)\n",
            "test image shape : (9000, 28, 28, 1, 1, 1)\n"
          ]
        }
      ]
    },
    {
      "cell_type": "code",
      "source": [
        "y_train = keras.utils.to_categorical(y_train)\n",
        "y_test = keras.utils.to_categorical(y_test)"
      ],
      "metadata": {
        "id": "1VTyiZTb2ysZ"
      },
      "execution_count": null,
      "outputs": []
    },
    {
      "cell_type": "code",
      "source": [
        "input_size = (x_train.shape[1], x_train.shape[2], x_train.shape[3])\n",
        "print(input_size)"
      ],
      "metadata": {
        "colab": {
          "base_uri": "https://localhost:8080/"
        },
        "id": "WeyS4jDrlH87",
        "outputId": "3e9ffa2c-376e-4f63-996f-62a49d16ce4a"
      },
      "execution_count": null,
      "outputs": [
        {
          "output_type": "stream",
          "name": "stdout",
          "text": [
            "(28, 28, 1)\n"
          ]
        }
      ]
    },
    {
      "cell_type": "code",
      "source": [
        "def CNN(input_size=(28,28,1)):\n",
        "  inputs = Input(shape=input_size)\n",
        "\n",
        "  conv1 = Conv2D(32, 3, activation='relu')(inputs)\n",
        "  max1 = MaxPooling2D(pool_size=(2,2))(conv1)\n",
        "  conv2 = Conv2D(64, 3, activation='relu')(max1)\n",
        "  max2 = MaxPooling2D(pool_size=(2,2))(conv2)\n",
        "  conv3 = Conv2D(128, 3, activation='relu')(max2)\n",
        "  max3 = MaxPooling2D(pool_size=(2,2))(conv3)\n",
        "\n",
        "  flatten = Flatten()(max3)\n",
        "\n",
        "  dense1 = Dense(40, activation='relu')(flatten)\n",
        "  dense2 = Dense(20, activation='relu')(dense1)\n",
        "  dense3 = Dense(10, activation='softmax')(dense2)\n",
        "\n",
        "  model = Model(inputs=inputs, outputs=dense3)\n",
        "  model.compile(loss='categorical_crossentropy', optimizer='adam', metrics=['accuracy'])\n",
        "\n",
        "  return model"
      ],
      "metadata": {
        "id": "pJXEF0Gc1o3v"
      },
      "execution_count": null,
      "outputs": []
    },
    {
      "cell_type": "code",
      "source": [
        "CNN_model = CNN()\n",
        "CNN_model.summary()"
      ],
      "metadata": {
        "colab": {
          "base_uri": "https://localhost:8080/"
        },
        "id": "QK47RVCrsMHF",
        "outputId": "bbac1b69-5087-44ff-bc38-3a6eaf6d39a7"
      },
      "execution_count": null,
      "outputs": [
        {
          "output_type": "stream",
          "name": "stdout",
          "text": [
            "Model: \"model_1\"\n",
            "_________________________________________________________________\n",
            " Layer (type)                Output Shape              Param #   \n",
            "=================================================================\n",
            " input_2 (InputLayer)        [(None, 28, 28, 1)]       0         \n",
            "                                                                 \n",
            " conv2d_3 (Conv2D)           (None, 26, 26, 32)        320       \n",
            "                                                                 \n",
            " max_pooling2d_3 (MaxPooling  (None, 13, 13, 32)       0         \n",
            " 2D)                                                             \n",
            "                                                                 \n",
            " conv2d_4 (Conv2D)           (None, 11, 11, 64)        18496     \n",
            "                                                                 \n",
            " max_pooling2d_4 (MaxPooling  (None, 5, 5, 64)         0         \n",
            " 2D)                                                             \n",
            "                                                                 \n",
            " conv2d_5 (Conv2D)           (None, 3, 3, 128)         73856     \n",
            "                                                                 \n",
            " max_pooling2d_5 (MaxPooling  (None, 1, 1, 128)        0         \n",
            " 2D)                                                             \n",
            "                                                                 \n",
            " flatten_1 (Flatten)         (None, 128)               0         \n",
            "                                                                 \n",
            " dense_3 (Dense)             (None, 40)                5160      \n",
            "                                                                 \n",
            " dense_4 (Dense)             (None, 20)                820       \n",
            "                                                                 \n",
            " dense_5 (Dense)             (None, 10)                210       \n",
            "                                                                 \n",
            "=================================================================\n",
            "Total params: 98,862\n",
            "Trainable params: 98,862\n",
            "Non-trainable params: 0\n",
            "_________________________________________________________________\n"
          ]
        }
      ]
    },
    {
      "cell_type": "code",
      "source": [
        "batch_size = 64\n",
        "epoch = 10"
      ],
      "metadata": {
        "id": "wngcTeva4WT0"
      },
      "execution_count": null,
      "outputs": []
    },
    {
      "cell_type": "code",
      "source": [
        "CNN_model.compile(loss='categorical_crossentropy', optimizer='adam', metrics=['accuracy'])\n",
        "CNN_history = CNN_model.fit(x_train, y_train, batch_size=batch_size, epochs=epoch, validation_split=0.1)"
      ],
      "metadata": {
        "colab": {
          "base_uri": "https://localhost:8080/"
        },
        "id": "5i3LcNVj4ypY",
        "outputId": "a586de8e-8fe7-4f02-d742-f33653a86a01"
      },
      "execution_count": null,
      "outputs": [
        {
          "output_type": "stream",
          "name": "stdout",
          "text": [
            "Epoch 1/10\n",
            "844/844 [==============================] - 52s 61ms/step - loss: 0.4298 - accuracy: 0.8637 - val_loss: 0.1306 - val_accuracy: 0.9620\n",
            "Epoch 2/10\n",
            "844/844 [==============================] - 52s 61ms/step - loss: 0.1134 - accuracy: 0.9655 - val_loss: 0.0737 - val_accuracy: 0.9767\n",
            "Epoch 3/10\n",
            "844/844 [==============================] - 52s 61ms/step - loss: 0.0785 - accuracy: 0.9763 - val_loss: 0.0547 - val_accuracy: 0.9848\n",
            "Epoch 4/10\n",
            "844/844 [==============================] - 52s 62ms/step - loss: 0.0606 - accuracy: 0.9809 - val_loss: 0.0523 - val_accuracy: 0.9837\n",
            "Epoch 5/10\n",
            "844/844 [==============================] - 53s 63ms/step - loss: 0.0482 - accuracy: 0.9846 - val_loss: 0.0443 - val_accuracy: 0.9870\n",
            "Epoch 6/10\n",
            "844/844 [==============================] - 54s 64ms/step - loss: 0.0415 - accuracy: 0.9869 - val_loss: 0.0419 - val_accuracy: 0.9880\n",
            "Epoch 7/10\n",
            "844/844 [==============================] - 53s 63ms/step - loss: 0.0357 - accuracy: 0.9881 - val_loss: 0.0413 - val_accuracy: 0.9885\n",
            "Epoch 8/10\n",
            "844/844 [==============================] - 53s 63ms/step - loss: 0.0297 - accuracy: 0.9904 - val_loss: 0.0394 - val_accuracy: 0.9873\n",
            "Epoch 9/10\n",
            "844/844 [==============================] - 53s 62ms/step - loss: 0.0241 - accuracy: 0.9920 - val_loss: 0.0437 - val_accuracy: 0.9883\n",
            "Epoch 10/10\n",
            "844/844 [==============================] - 53s 62ms/step - loss: 0.0234 - accuracy: 0.9923 - val_loss: 0.0419 - val_accuracy: 0.9880\n"
          ]
        }
      ]
    },
    {
      "cell_type": "code",
      "source": [
        "def plot_learning_curve(history):\n",
        "    acc = history.history['accuracy']\n",
        "    val_acc = history.history['val_accuracy']\n",
        "    loss = history.history['loss']\n",
        "    val_loss = history.history['val_loss']\n",
        "    epochs = range(1, len(acc) + 1)\n",
        "\n",
        "    plt.figure(figsize=(15, 5))\n",
        "\n",
        "    plt.subplot(121)\n",
        "    plt.title('Training and validation accuracy')\n",
        "    plt.plot(epochs, acc, '-', label='Training acc')\n",
        "    plt.plot(epochs, val_acc, '-', label='Validation acc')\n",
        "    plt.legend()\n",
        "\n",
        "    plt.subplot(122)\n",
        "    plt.title('Training and validation loss')\n",
        "    plt.plot(epochs, loss, '-', label='Training loss')\n",
        "    plt.plot(epochs, val_loss, '-', label='Validation loss')\n",
        "    plt.legend()\n",
        "\n",
        "    plt.show()"
      ],
      "metadata": {
        "id": "oK9Lxq-mEnSs"
      },
      "execution_count": null,
      "outputs": []
    },
    {
      "cell_type": "code",
      "source": [
        "plot_learning_curve(CNN_history)"
      ],
      "metadata": {
        "id": "eSNJRvx18zLs",
        "colab": {
          "base_uri": "https://localhost:8080/",
          "height": 336
        },
        "outputId": "9675ccdd-fa7e-4cf6-c53b-f85d3e65357f"
      },
      "execution_count": null,
      "outputs": [
        {
          "output_type": "display_data",
          "data": {
            "text/plain": [
              "<Figure size 1080x360 with 2 Axes>"
            ],
            "image/png": "[encoded data removed]"
          },
          "metadata": {
            "needs_background": "light"
          }
        }
      ]
    },
    {
      "cell_type": "code",
      "source": [
        "from sklearn.metrics import confusion_matrix\n",
        "\n",
        "y_label = np.argmax(y_test, 1)\n",
        "y_fit = np.argmax(CNN_model.predict(x_test), 1)\n",
        "\n",
        "confusion_mat = confusion_matrix(y_label, y_fit)"
      ],
      "metadata": {
        "id": "Px175spwIvwV"
      },
      "execution_count": null,
      "outputs": []
    },
    {
      "cell_type": "code",
      "source": [
        "confusion_mat"
      ],
      "metadata": {
        "colab": {
          "base_uri": "https://localhost:8080/"
        },
        "id": "okXr2DCyx_0d",
        "outputId": "ac0c2afd-197d-4f8f-d197-1f802c3d7dba"
      },
      "execution_count": null,
      "outputs": [
        {
          "output_type": "execute_result",
          "data": {
            "text/plain": [
              "array([[ 969,    1,    0,    0,    0,    3,    2,    2,    0,    3],\n",
              "       [   0, 1130,    1,    1,    0,    1,    1,    1,    0,    0],\n",
              "       [   2,    0, 1019,    2,    1,    0,    0,    6,    1,    1],\n",
              "       [   0,    0,    1, 1005,    0,    2,    0,    1,    1,    0],\n",
              "       [   3,    0,    1,    1,  951,    0,    5,    1,    1,   19],\n",
              "       [   3,    0,    0,    6,    0,  881,    1,    1,    0,    0],\n",
              "       [   5,    3,    1,    0,    2,    5,  941,    0,    1,    0],\n",
              "       [   1,    8,   26,    2,    0,    1,    0,  980,    2,    8],\n",
              "       [   0,    0,    2,    4,    0,    3,    0,    2,  959,    4],\n",
              "       [   1,    1,    0,    0,    2,    5,    0,    1,    1,  998]])"
            ]
          },
          "metadata": {},
          "execution_count": 43
        }
      ]
    },
    {
      "cell_type": "code",
      "source": [
        "from sklearn.metrics import accuracy_score\n",
        "\n",
        "accuracy = accuracy_score(y_label, y_fit)\n",
        "print('accuracy :', accuracy)"
      ],
      "metadata": {
        "colab": {
          "base_uri": "https://localhost:8080/"
        },
        "id": "m4zR_KvMy0V7",
        "outputId": "97611515-b0e8-4f33-fb34-5c4595f45fb2"
      },
      "execution_count": null,
      "outputs": [
        {
          "output_type": "stream",
          "name": "stdout",
          "text": [
            "accuracy : 0.9833\n"
          ]
        }
      ]
    },
    {
      "cell_type": "code",
      "source": [
        ""
      ],
      "metadata": {
        "id": "o9WpylCW0xAT"
      },
      "execution_count": null,
      "outputs": []
    }
  ]
}