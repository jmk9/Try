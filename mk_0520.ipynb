{
  "nbformat": 4,
  "nbformat_minor": 0,
  "metadata": {
    "colab": {
      "name": "mk_0520",
      "provenance": [],
      "authorship_tag": "ABX9TyOOdYIXAQhNFZ0YaPOZ7sxM",
      "include_colab_link": true
    },
    "kernelspec": {
      "name": "python3",
      "display_name": "Python 3"
    },
    "language_info": {
      "name": "python"
    }
  },
  "cells": [
    {
      "cell_type": "markdown",
      "metadata": {
        "id": "view-in-github",
        "colab_type": "text"
      },
      "source": [
        "<a href=\"https://colab.research.google.com/github/jmk9/try/blob/main/mk_0520.ipynb\" target=\"_parent\"><img src=\"https://colab.research.google.com/assets/colab-badge.svg\" alt=\"Open In Colab\"/></a>"
      ]
    },
    {
      "cell_type": "code",
      "metadata": {
        "colab": {
          "base_uri": "https://localhost:8080/"
        },
        "id": "y2HwY6hoxZBJ",
        "outputId": "548aefe4-5f97-4e45-eeae-04e0af4014f0"
      },
      "source": [
        "ls = list()\n",
        "\n",
        "print('Enter the standard number : ')\n",
        "standard_num = int(input())\n",
        "\n",
        "print('If you enter 0, exit this program.')\n",
        "print('Enter the numbers less than standard number. : ')\n",
        "\n",
        "while True:\n",
        "  a = int(input())\n",
        "  ls.append(a)\n",
        "  if a == 0:\n",
        "    break\n",
        "\n",
        "if len(ls) - 1 <= standard_num:\n",
        "  print(ls[:len(ls)-1])\n",
        "\n",
        "else:\n",
        "  print('Not in range.')"
      ],
      "execution_count": null,
      "outputs": [
        {
          "output_type": "stream",
          "text": [
            "Enter the standard number : \n",
            "3\n",
            "If you enter 0, exit this program.\n",
            "Enter the numbers less than standard number. : \n",
            "1\n",
            "2\n",
            "3\n",
            "4\n",
            "0\n",
            "Not in range.\n"
          ],
          "name": "stdout"
        }
      ]
    },
    {
      "cell_type": "code",
      "metadata": {
        "colab": {
          "base_uri": "https://localhost:8080/"
        },
        "id": "UZTFquApzf2W",
        "outputId": "785336b7-9d85-44a8-d3a2-5a76a736a11c"
      },
      "source": [
        "s=[]\n",
        "\n",
        "while True:\n",
        "  n=int(input())\n",
        "  s.append(n)\n",
        "  if n==0:\n",
        "    break\n",
        "\n",
        "index=int(input())\n",
        "\n",
        "standard_num=int(input())\n",
        "if index not in s:\n",
        "  print(\"Not in range\")\n",
        "else:\n",
        "  for i in s[:index+1]:\n",
        "    if i > standard_num:\n",
        "      print(i)"
      ],
      "execution_count": null,
      "outputs": [
        {
          "output_type": "stream",
          "text": [
            "1\n",
            "2\n",
            "3\n",
            "0\n",
            "9\n",
            "0\n",
            "Not in range\n"
          ],
          "name": "stdout"
        }
      ]
    },
    {
      "cell_type": "code",
      "metadata": {
        "colab": {
          "base_uri": "https://localhost:8080/"
        },
        "id": "EVkoEWO12bWB",
        "outputId": "f6fb0c5b-77b2-42fa-83f4-894025efdd42"
      },
      "source": [
        "5for i in [1,2,3]:\n",
        "  print(i)"
      ],
      "execution_count": null,
      "outputs": [
        {
          "output_type": "stream",
          "text": [
            "1\n",
            "2\n",
            "3\n"
          ],
          "name": "stdout"
        }
      ]
    },
    {
      "cell_type": "code",
      "metadata": {
        "id": "3TpWWIR84zAV"
      },
      "source": [
        ""
      ],
      "execution_count": null,
      "outputs": []
    }
  ]
}