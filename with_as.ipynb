{
 "cells": [
  {
   "cell_type": "markdown",
   "id": "68262ecd-6998-41b3-b812-ae15a07b6c05",
   "metadata": {},
   "source": [
    "# with ~ as ~"
   ]
  },
  {
   "cell_type": "markdown",
   "id": "d61b3725-a31e-4edf-9603-de03aa18768e",
   "metadata": {},
   "source": [
    "코드가 길어지면 파일을 열고 닫는 작업에서 실수를 할 수 있기 때문에 사용"
   ]
  },
  {
   "cell_type": "code",
   "execution_count": 9,
   "id": "5f194f2c-3716-4bb6-81bb-b7909ef4a2b3",
   "metadata": {},
   "outputs": [],
   "source": [
    "f = open(r'C:\\workspace\\f_test.txt', 'w')\n",
    "\n",
    "for i in range(5):\n",
    "    f.write(\"{} nice to meet you\\n\".format(i))\n",
    "    \n",
    "f.close()"
   ]
  },
  {
   "cell_type": "code",
   "execution_count": 10,
   "id": "ef9d88be-eb9e-4f5d-a31a-77d0a1c553cf",
   "metadata": {},
   "outputs": [],
   "source": [
    "with open(r'C:\\workspace\\f_test.txt', 'a') as f:\n",
    "    f.write(\"nice to meet you too!\")"
   ]
  },
  {
   "cell_type": "markdown",
   "id": "47295d0e-821e-4b2e-a396-d85330924d76",
   "metadata": {},
   "source": [
    "위와 같이 close()를 하지 않아도 오류가 생기지 않는 것을 확인할 수 있다."
   ]
  },
  {
   "cell_type": "markdown",
   "id": "c21ff18d-fc0a-4800-a1f9-16837fc1f888",
   "metadata": {},
   "source": [
    "파일 열고 닫기는 간단한 예제이고 with문의 사용은 생성 - 사용 - 소멸 싸이클을 자동으로 실행해주는 기능을 한다."
   ]
  },
  {
   "cell_type": "code",
   "execution_count": null,
   "id": "ca2e7dc8-5045-40b0-bd81-2859392014dd",
   "metadata": {},
   "outputs": [],
   "source": [
    "class say() as s:\n",
    "    def __hi__(self):\n",
    "        "
   ]
  }
 ],
 "metadata": {
  "kernelspec": {
   "display_name": "Python 3 (ipykernel)",
   "language": "python",
   "name": "python3"
  },
  "language_info": {
   "codemirror_mode": {
    "name": "ipython",
    "version": 3
   },
   "file_extension": ".py",
   "mimetype": "text/x-python",
   "name": "python",
   "nbconvert_exporter": "python",
   "pygments_lexer": "ipython3",
   "version": "3.9.12"
  }
 },
 "nbformat": 4,
 "nbformat_minor": 5
}
