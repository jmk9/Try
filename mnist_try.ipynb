{
  "nbformat": 4,
  "nbformat_minor": 0,
  "metadata": {
    "colab": {
      "name": "mnist_try.ipynb",
      "provenance": [],
      "collapsed_sections": [],
      "authorship_tag": "ABX9TyMYa/Twvh81GF0zbfnCl+UV",
      "include_colab_link": true
    },
    "kernelspec": {
      "name": "python3",
      "display_name": "Python 3"
    },
    "language_info": {
      "name": "python"
    }
  },
  "cells": [
    {
      "cell_type": "markdown",
      "metadata": {
        "id": "view-in-github",
        "colab_type": "text"
      },
      "source": [
        "<a href=\"https://colab.research.google.com/github/jmk9/try/blob/main/mnist_try.ipynb\" target=\"_parent\"><img src=\"https://colab.research.google.com/assets/colab-badge.svg\" alt=\"Open In Colab\"/></a>"
      ]
    },
    {
      "cell_type": "code",
      "source": [
        "import tensorflow as tf\n",
        "from tensorflow import keras"
      ],
      "metadata": {
        "id": "GCKVC_dNJGw6"
      },
      "execution_count": null,
      "outputs": []
    },
    {
      "cell_type": "code",
      "source": [
        "print(tf.__version__)"
      ],
      "metadata": {
        "colab": {
          "base_uri": "https://localhost:8080/"
        },
        "id": "ISaY1dj-KbB9",
        "outputId": "aa4ccd11-731f-44be-c400-c2ded8594341"
      },
      "execution_count": null,
      "outputs": [
        {
          "output_type": "stream",
          "name": "stdout",
          "text": [
            "2.8.2\n"
          ]
        }
      ]
    },
    {
      "cell_type": "code",
      "source": [
        "(x_train, y_train), (x_test, y_test) = keras.datasets.mnist.load_data()"
      ],
      "metadata": {
        "id": "P6cP_TAkO2KP"
      },
      "execution_count": null,
      "outputs": []
    },
    {
      "cell_type": "code",
      "source": [
        "#image의 scale을 (0,1)로 맞추기 위함. color의 scale이 0~255. 숫자가 커질 수록 밝아짐\n",
        "x_train = x_train.astype(\"float32\") / 255\n",
        "x_test = x_test.astype(\"float32\") / 255"
      ],
      "metadata": {
        "id": "LF_wofDjmSkY"
      },
      "execution_count": null,
      "outputs": []
    },
    {
      "cell_type": "code",
      "source": [
        "import numpy as np"
      ],
      "metadata": {
        "id": "BzTYYq__naL-"
      },
      "execution_count": null,
      "outputs": []
    },
    {
      "cell_type": "code",
      "source": [
        "# x_train = np.expand_dims(x_train, -1)\n",
        "# x_test = np.expand_dims(x_test, -1)"
      ],
      "metadata": {
        "id": "cwTumQXGnOus"
      },
      "execution_count": null,
      "outputs": []
    },
    {
      "cell_type": "code",
      "source": [
        "print('train image shape :', x_train.shape)\n",
        "print('test image shape :', x_test.shape)"
      ],
      "metadata": {
        "colab": {
          "base_uri": "https://localhost:8080/"
        },
        "id": "ywbdZAy5kVeb",
        "outputId": "3cdce0d5-9b35-470f-bbfe-a584660ce1cc"
      },
      "execution_count": null,
      "outputs": [
        {
          "output_type": "stream",
          "name": "stdout",
          "text": [
            "train image shape : (60000, 28, 28)\n",
            "test image shape : (10000, 28, 28)\n"
          ]
        }
      ]
    },
    {
      "cell_type": "code",
      "source": [
        ""
      ],
      "metadata": {
        "id": "lBrBqBPulYBY"
      },
      "execution_count": null,
      "outputs": []
    },
    {
      "cell_type": "code",
      "source": [
        "# train_data, test_data = mnist.load_data()\n",
        "# train_img, train_label = train_data\n",
        "# test_img, test_label = test_data"
      ],
      "metadata": {
        "id": "DBD3F_plOP7i"
      },
      "execution_count": null,
      "outputs": []
    },
    {
      "cell_type": "code",
      "source": [
        "import matplotlib.pyplot as plt\n",
        "import math"
      ],
      "metadata": {
        "id": "Llfms-ytMJB7"
      },
      "execution_count": null,
      "outputs": []
    },
    {
      "cell_type": "code",
      "source": [
        "cnt = 8\n",
        "img_cnt = math.ceil(math.sqrt(cnt)) #sqrt는 제곱근, ceil은 올림\n",
        "img_cnt"
      ],
      "metadata": {
        "colab": {
          "base_uri": "https://localhost:8080/"
        },
        "id": "0Og1A3sXcA3l",
        "outputId": "d9e2a3bc-2a40-44e0-e611-1d9b1e20d259"
      },
      "execution_count": null,
      "outputs": [
        {
          "output_type": "execute_result",
          "data": {
            "text/plain": [
              "3"
            ]
          },
          "metadata": {},
          "execution_count": 49
        }
      ]
    },
    {
      "cell_type": "code",
      "source": [
        "cnt = 8\n",
        "csqr = math.ceil(math.sqrt(cnt))\n",
        "\n",
        "plt.figure(figsize=(2*csqr, 2*csqr)) #이미지 크기 설정. 3x3 사이즈\n",
        "for i in range(cnt):\n",
        "  plt.subplot(csqr, csqr, i+1) #전체 틀과 몇 번째에 표시하는지 설정. 3x3 사이즈에 1~9번째 이미지 표시\n",
        "  plt.xticks([]) #눈금선 설정. 빈 리스트를 넣음으로써 눈금선 제거\n",
        "  plt.yticks([])\n",
        "  plt.imshow(x_train[i], cmap=plt.cm.gray)\n",
        "  plt.xlabel('label: {}'.format(y_train[i]))\n",
        "plt.show()"
      ],
      "metadata": {
        "colab": {
          "base_uri": "https://localhost:8080/",
          "height": 371
        },
        "id": "s4TXiCyhWVbV",
        "outputId": "ad7eacd8-59cb-4dd6-88ed-50b2fda52be7"
      },
      "execution_count": null,
      "outputs": [
        {
          "output_type": "display_data",
          "data": {
            "text/plain": [
              "<Figure size 432x432 with 8 Axes>"
            ],
            "image/png": "[encoded data removed]"
          },
          "metadata": {}
        }
      ]
    },
    {
      "cell_type": "code",
      "source": [
        "x_train[0].shape"
      ],
      "metadata": {
        "colab": {
          "base_uri": "https://localhost:8080/"
        },
        "id": "mCAXTfw0veit",
        "outputId": "6bf31045-c996-4615-bd4d-ecfa5ff694f5"
      },
      "execution_count": null,
      "outputs": [
        {
          "output_type": "execute_result",
          "data": {
            "text/plain": [
              "(28, 28)"
            ]
          },
          "metadata": {},
          "execution_count": 51
        }
      ]
    },
    {
      "cell_type": "code",
      "source": [
        "def show_sample(img, label, cnt):\n",
        "  csqr = math.ceil(math.sqrt(cnt))\n",
        "\n",
        "  plt.figure(figsize=(2*csqr, 2*csqr)) #이미지 크기 설정. 3x3 사이즈\n",
        "  for i in range(cnt):\n",
        "    plt.subplot(csqr, csqr, i+1) #전체 틀과 몇 번째에 표시하는지 설정. 3x3 사이즈에 1~9번째 이미지 표시\n",
        "    plt.xticks([]) #눈금선 설정. 빈 리스트를 넣음으로써 눈금선 제거\n",
        "    plt.yticks([])\n",
        "    plt.imshow(img[i], cmap=plt.cm.gray)\n",
        "    plt.xlabel('label: {}'.format(label[i]))\n",
        "  plt.show()"
      ],
      "metadata": {
        "id": "y8jG3CVsJ2fd"
      },
      "execution_count": null,
      "outputs": []
    },
    {
      "cell_type": "code",
      "source": [
        "show_sample(x_train, y_train, 23)"
      ],
      "metadata": {
        "colab": {
          "base_uri": "https://localhost:8080/",
          "height": 589
        },
        "id": "O-EnUKr5jNj2",
        "outputId": "e6e49883-7f94-4100-ad4d-d23cde1093c3"
      },
      "execution_count": null,
      "outputs": [
        {
          "output_type": "display_data",
          "data": {
            "text/plain": [
              "<Figure size 720x720 with 23 Axes>"
            ],
            "image/png": "[encoded data removed]"
          },
          "metadata": {}
        }
      ]
    },
    {
      "cell_type": "code",
      "source": [
        ""
      ],
      "metadata": {
        "id": "3LEVp9jgsOC6"
      },
      "execution_count": null,
      "outputs": []
    },
    {
      "cell_type": "code",
      "source": [
        "x_train = np.expand_dims(x_train, -1) #model layer에 input할 때 스케일이 (n, n, n) 형태가 되어야 하므로 scale을 확장해줌.\n",
        "x_test = np.expand_dims(x_test, -1)\n",
        "print('train image shape :', x_train.shape)\n",
        "print('test image shape :', x_test.shape)"
      ],
      "metadata": {
        "colab": {
          "base_uri": "https://localhost:8080/"
        },
        "id": "JKfM_Pni0ZOL",
        "outputId": "161c701c-7075-4855-805e-7378847c6d49"
      },
      "execution_count": null,
      "outputs": [
        {
          "output_type": "stream",
          "name": "stdout",
          "text": [
            "train image shape : (60000, 28, 28, 1)\n",
            "test image shape : (10000, 28, 28, 1)\n"
          ]
        }
      ]
    },
    {
      "cell_type": "code",
      "source": [
        "y_train = keras.utils.to_categorical(y_train) #one-hot incoding을 통해 (1, 2)를 ([0,1,0], [0,0,1]) 형태로 컴퓨터가 이해하기 쉽게 변환\n",
        "y_test = keras.utils.to_categorical(y_test)"
      ],
      "metadata": {
        "id": "1VTyiZTb2ysZ"
      },
      "execution_count": null,
      "outputs": []
    },
    {
      "cell_type": "code",
      "source": [
        "input_size = (x_train.shape[1], x_train.shape[2], x_train.shape[3])\n",
        "print(input_size)"
      ],
      "metadata": {
        "colab": {
          "base_uri": "https://localhost:8080/"
        },
        "id": "WeyS4jDrlH87",
        "outputId": "8f6977a6-32b2-4f7e-b264-a36f54dd0db3"
      },
      "execution_count": null,
      "outputs": [
        {
          "output_type": "stream",
          "name": "stdout",
          "text": [
            "(28, 28, 1)\n"
          ]
        }
      ]
    },
    {
      "cell_type": "code",
      "source": [
        "from keras import activations"
      ],
      "metadata": {
        "id": "qUW7A-WDyIjP"
      },
      "execution_count": null,
      "outputs": []
    },
    {
      "cell_type": "code",
      "source": [
        "model = keras.Sequential(\n",
        "    [\n",
        "     keras.Input(shape=input_size),\n",
        "     keras.layers.Conv2D(32, kernel_size=(3,3), activation='relu'),\n",
        "     keras.layers.MaxPooling2D(pool_size=(2,2)),\n",
        "     keras.layers.Conv2D(64, kernel_size=(3,3), activation='relu'),\n",
        "     keras.layers.MaxPooling2D(pool_size=(2,2)),\n",
        "     keras.layers.Flatten(),\n",
        "     keras.layers.Dropout(0.5),\n",
        "     keras.layers.Dense(10, activation='softmax')\n",
        "    ]\n",
        ")"
      ],
      "metadata": {
        "id": "pJXEF0Gc1o3v"
      },
      "execution_count": null,
      "outputs": []
    },
    {
      "cell_type": "code",
      "source": [
        "model.summary()"
      ],
      "metadata": {
        "colab": {
          "base_uri": "https://localhost:8080/"
        },
        "id": "QK47RVCrsMHF",
        "outputId": "e00493bd-a06d-4a01-88c9-a23bea110374"
      },
      "execution_count": null,
      "outputs": [
        {
          "output_type": "stream",
          "name": "stdout",
          "text": [
            "Model: \"sequential_1\"\n",
            "_________________________________________________________________\n",
            " Layer (type)                Output Shape              Param #   \n",
            "=================================================================\n",
            " conv2d_2 (Conv2D)           (None, 26, 26, 32)        320       \n",
            "                                                                 \n",
            " max_pooling2d_2 (MaxPooling  (None, 13, 13, 32)       0         \n",
            " 2D)                                                             \n",
            "                                                                 \n",
            " conv2d_3 (Conv2D)           (None, 11, 11, 64)        18496     \n",
            "                                                                 \n",
            " max_pooling2d_3 (MaxPooling  (None, 5, 5, 64)         0         \n",
            " 2D)                                                             \n",
            "                                                                 \n",
            " flatten_1 (Flatten)         (None, 1600)              0         \n",
            "                                                                 \n",
            " dropout_1 (Dropout)         (None, 1600)              0         \n",
            "                                                                 \n",
            " dense_1 (Dense)             (None, 10)                16010     \n",
            "                                                                 \n",
            "=================================================================\n",
            "Total params: 34,826\n",
            "Trainable params: 34,826\n",
            "Non-trainable params: 0\n",
            "_________________________________________________________________\n"
          ]
        }
      ]
    },
    {
      "cell_type": "code",
      "source": [
        "batch_size = 128\n",
        "epoch = 10"
      ],
      "metadata": {
        "id": "wngcTeva4WT0"
      },
      "execution_count": null,
      "outputs": []
    },
    {
      "cell_type": "code",
      "source": [
        "model.compile(loss='categorical_crossentropy', optimizer='adam', metrics=['accuracy'])\n",
        "model_history = model.fit(x_train, y_train, batch_size=batch_size, epochs=epoch, validation_split=0.1)"
      ],
      "metadata": {
        "colab": {
          "base_uri": "https://localhost:8080/"
        },
        "id": "5i3LcNVj4ypY",
        "outputId": "d73ced76-238f-4d41-fdd9-60faece14aeb"
      },
      "execution_count": null,
      "outputs": [
        {
          "output_type": "stream",
          "name": "stdout",
          "text": [
            "Epoch 1/10\n",
            "422/422 [==============================] - 43s 100ms/step - loss: 0.3790 - accuracy: 0.8856 - val_loss: 0.0833 - val_accuracy: 0.9763\n",
            "Epoch 2/10\n",
            "422/422 [==============================] - 43s 102ms/step - loss: 0.1157 - accuracy: 0.9651 - val_loss: 0.0571 - val_accuracy: 0.9840\n",
            "Epoch 3/10\n",
            "422/422 [==============================] - 42s 100ms/step - loss: 0.0853 - accuracy: 0.9741 - val_loss: 0.0489 - val_accuracy: 0.9868\n",
            "Epoch 4/10\n",
            "422/422 [==============================] - 42s 99ms/step - loss: 0.0737 - accuracy: 0.9768 - val_loss: 0.0449 - val_accuracy: 0.9882\n",
            "Epoch 5/10\n",
            "422/422 [==============================] - 43s 101ms/step - loss: 0.0642 - accuracy: 0.9801 - val_loss: 0.0398 - val_accuracy: 0.9895\n",
            "Epoch 6/10\n",
            "422/422 [==============================] - 42s 99ms/step - loss: 0.0568 - accuracy: 0.9824 - val_loss: 0.0412 - val_accuracy: 0.9885\n",
            "Epoch 7/10\n",
            "422/422 [==============================] - 42s 99ms/step - loss: 0.0532 - accuracy: 0.9825 - val_loss: 0.0355 - val_accuracy: 0.9902\n",
            "Epoch 8/10\n",
            "422/422 [==============================] - 42s 99ms/step - loss: 0.0505 - accuracy: 0.9842 - val_loss: 0.0325 - val_accuracy: 0.9907\n",
            "Epoch 9/10\n",
            "422/422 [==============================] - 42s 99ms/step - loss: 0.0469 - accuracy: 0.9851 - val_loss: 0.0341 - val_accuracy: 0.9900\n",
            "Epoch 10/10\n",
            "422/422 [==============================] - 41s 98ms/step - loss: 0.0432 - accuracy: 0.9866 - val_loss: 0.0305 - val_accuracy: 0.9922\n"
          ]
        }
      ]
    },
    {
      "cell_type": "code",
      "source": [
        "def plot_learning_curve(history):\n",
        "    acc = history.history['accuracy']\n",
        "    val_acc = history.history['val_accuracy']\n",
        "    loss = history.history['loss']\n",
        "    val_loss = history.history['val_loss']\n",
        "    epochs = range(1, len(acc) + 1)\n",
        "\n",
        "    plt.figure(figsize=(15, 5))\n",
        "\n",
        "    plt.subplot(121)\n",
        "    plt.title('Training and validation accuracy')\n",
        "    plt.plot(epochs, acc, '-', label='Training acc')\n",
        "    plt.plot(epochs, val_acc, '-', label='Validation acc')\n",
        "    plt.legend()\n",
        "\n",
        "    plt.subplot(122)\n",
        "    plt.title('Training and validation loss')\n",
        "    plt.plot(epochs, loss, '-', label='Training loss')\n",
        "    plt.plot(epochs, val_loss, '-', label='Validation loss')\n",
        "    plt.legend()\n",
        "\n",
        "    plt.show()"
      ],
      "metadata": {
        "id": "oK9Lxq-mEnSs"
      },
      "execution_count": null,
      "outputs": []
    },
    {
      "cell_type": "code",
      "source": [
        "plot_learning_curve(model_history)"
      ],
      "metadata": {
        "id": "eSNJRvx18zLs",
        "colab": {
          "base_uri": "https://localhost:8080/",
          "height": 336
        },
        "outputId": "1130ee26-a133-41dd-b30f-0dc465b341b2"
      },
      "execution_count": null,
      "outputs": [
        {
          "output_type": "display_data",
          "data": {
            "text/plain": [
              "<Figure size 1080x360 with 2 Axes>"
            ],
            "image/png": "[encoded data removed]"
          },
          "metadata": {
            "needs_background": "light"
          }
        }
      ]
    },
    {
      "cell_type": "code",
      "source": [
        ""
      ],
      "metadata": {
        "id": "JDtZ2BqDIvP7"
      },
      "execution_count": null,
      "outputs": []
    },
    {
      "cell_type": "code",
      "source": [
        ""
      ],
      "metadata": {
        "id": "Px175spwIvwV"
      },
      "execution_count": null,
      "outputs": []
    },
    {
      "cell_type": "code",
      "source": [
        "from keras.models import *\n",
        "from keras.layers import *\n",
        "from keras.optimizers import *"
      ],
      "metadata": {
        "id": "5Rrqtg0DxQ2_"
      },
      "execution_count": null,
      "outputs": []
    },
    {
      "cell_type": "code",
      "source": [
        "model = input = Input((28, 28))\n",
        "\n",
        "dense1 = Dense(128, activation='relu')(input)\n",
        "dense2 = Dense(64, activation='relu')(dense1)\n",
        "dense3 = Dense(32, activation='relu')(dense2)\n",
        "dense4 = Dense(16, activation='relu')(dense3)\n",
        "dense5 = Dense(8, activation='relu')(dense4)"
      ],
      "metadata": {
        "colab": {
          "base_uri": "https://localhost:8080/",
          "height": 136
        },
        "id": "SeaWlszEjeaM",
        "outputId": "10b1fec7-d805-4828-aa0b-2706b9787e94"
      },
      "execution_count": null,
      "outputs": [
        {
          "output_type": "error",
          "ename": "SyntaxError",
          "evalue": "ignored",
          "traceback": [
            "\u001b[0;36m  File \u001b[0;32m\"<ipython-input-123-1d23a6619c1f>\"\u001b[0;36m, line \u001b[0;32m1\u001b[0m\n\u001b[0;31m    model =\u001b[0m\n\u001b[0m           ^\u001b[0m\n\u001b[0;31mSyntaxError\u001b[0m\u001b[0;31m:\u001b[0m invalid syntax\n"
          ]
        }
      ]
    }
  ]
}