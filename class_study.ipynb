{
  "nbformat": 4,
  "nbformat_minor": 0,
  "metadata": {
    "colab": {
      "name": "class_study",
      "provenance": [],
      "collapsed_sections": [],
      "authorship_tag": "ABX9TyOkIvvAtJfAuHGjST4vbPgm",
      "include_colab_link": true
    },
    "kernelspec": {
      "name": "python3",
      "display_name": "Python 3"
    },
    "language_info": {
      "name": "python"
    }
  },
  "cells": [
    {
      "cell_type": "markdown",
      "metadata": {
        "id": "view-in-github",
        "colab_type": "text"
      },
      "source": [
        "<a href=\"https://colab.research.google.com/github/jmk9/try/blob/main/class_study.ipynb\" target=\"_parent\"><img src=\"https://colab.research.google.com/assets/colab-badge.svg\" alt=\"Open In Colab\"/></a>"
      ]
    },
    {
      "cell_type": "code",
      "metadata": {
        "id": "UWzbLzTYWJyC"
      },
      "source": [
        "class FourCal():\n",
        "  def __init__(self, a, b):\n",
        "    self.a = a\n",
        "    self.b = b\n",
        "\n",
        "  def add(self):\n",
        "    result = self.a + self.b\n",
        "    return result\n",
        "\n",
        "  def mul(self):\n",
        "    result = self.a * self.b\n",
        "    return result\n",
        "\n",
        "  def sub(self):\n",
        "    result = self.a - self.b\n",
        "    return result\n",
        "\n",
        "  def div(self):\n",
        "    result = self.a / self.b\n",
        "    return result"
      ],
      "execution_count": null,
      "outputs": []
    },
    {
      "cell_type": "code",
      "metadata": {
        "colab": {
          "base_uri": "https://localhost:8080/"
        },
        "id": "ZeE8psD4WMXk",
        "outputId": "b21bb1e3-985a-4043-b213-d0cb0c2ea7c7"
      },
      "source": [
        "v = FourCal(6, 3)\n",
        "print('add =', v.add())\n",
        "print('div =', v.div())"
      ],
      "execution_count": null,
      "outputs": [
        {
          "output_type": "stream",
          "text": [
            "add = 9\n",
            "div = 2.0\n"
          ],
          "name": "stdout"
        }
      ]
    },
    {
      "cell_type": "code",
      "metadata": {
        "id": "ywT27PlsWNMV"
      },
      "source": [
        "class perfect_cal(FourCal):\n",
        "  def div(self):\n",
        "    if self.b == 0:\n",
        "      return 0\n",
        "\n",
        "    else:\n",
        "      result = self.a / self.b\n",
        "      return result\n"
      ],
      "execution_count": null,
      "outputs": []
    },
    {
      "cell_type": "code",
      "metadata": {
        "colab": {
          "base_uri": "https://localhost:8080/"
        },
        "id": "9FSE4CH2WRUE",
        "outputId": "bdf54763-80f3-49c1-a92e-a7b50d995d2d"
      },
      "source": [
        "y = perfect_cal(6, 0)\n",
        "y.div()"
      ],
      "execution_count": null,
      "outputs": [
        {
          "output_type": "execute_result",
          "data": {
            "text/plain": [
              "0"
            ]
          },
          "metadata": {
            "tags": []
          },
          "execution_count": 4
        }
      ]
    },
    {
      "cell_type": "code",
      "metadata": {
        "id": "183Tyt4gWUaJ"
      },
      "source": [
        ""
      ],
      "execution_count": null,
      "outputs": []
    }
  ]
}